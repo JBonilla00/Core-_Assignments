{
  "nbformat": 4,
  "nbformat_minor": 0,
  "metadata": {
    "colab": {
      "name": "Ensemble_Trees_Ex.ipynb",
      "provenance": [],
      "collapsed_sections": [],
      "mount_file_id": "1r3jyPC9CjQ67JRlFm-oe10tNEy07Gr8g",
      "authorship_tag": "ABX9TyM4PmW2WSMXymA0L2S2ejLV",
      "include_colab_link": true
    },
    "kernelspec": {
      "name": "python3",
      "display_name": "Python 3"
    },
    "language_info": {
      "name": "python"
    }
  },
  "cells": [
    {
      "cell_type": "markdown",
      "metadata": {
        "id": "view-in-github",
        "colab_type": "text"
      },
      "source": [
        "<a href=\"https://colab.research.google.com/github/JBonilla00/Core-_Assignments/blob/main/Ensemble_Trees_Ex.ipynb\" target=\"_parent\"><img src=\"https://colab.research.google.com/assets/colab-badge.svg\" alt=\"Open In Colab\"/></a>"
      ]
    },
    {
      "cell_type": "code",
      "source": [
        "from google.colab import drive\n",
        "drive.mount('/content/drive')"
      ],
      "metadata": {
        "id": "fQcUsOzWXA1q",
        "colab": {
          "base_uri": "https://localhost:8080/"
        },
        "outputId": "602d6af8-8330-46bb-b03a-7957b815ad3f"
      },
      "execution_count": null,
      "outputs": [
        {
          "output_type": "stream",
          "name": "stdout",
          "text": [
            "Drive already mounted at /content/drive; to attempt to forcibly remount, call drive.mount(\"/content/drive\", force_remount=True).\n"
          ]
        }
      ]
    },
    {
      "cell_type": "code",
      "source": [
        "import matplotlib.pyplot as plt\n",
        "import pandas as pd\n",
        "from sklearn.model_selection import train_test_split\n",
        "from sklearn.ensemble import BaggingRegressor\n",
        "from sklearn.ensemble import RandomForestRegressor"
      ],
      "metadata": {
        "id": "ZFpTYEiYeYih"
      },
      "execution_count": null,
      "outputs": []
    },
    {
      "cell_type": "code",
      "source": [
        "df = pd.read_csv('/content/Boston_Housing_from_Sklearn.csv')\n",
        "df.head()"
      ],
      "metadata": {
        "colab": {
          "base_uri": "https://localhost:8080/",
          "height": 206
        },
        "id": "qUOj8oSFecMY",
        "outputId": "8ad17da4-942d-47be-f556-f64094b49102"
      },
      "execution_count": null,
      "outputs": [
        {
          "output_type": "execute_result",
          "data": {
            "text/plain": [
              "      CRIM    NOX     RM   AGE  PTRATIO  LSTAT  PRICE\n",
              "0  0.00632  0.538  6.575  65.2     15.3   4.98   24.0\n",
              "1  0.02731  0.469  6.421  78.9     17.8   9.14   21.6\n",
              "2  0.02729  0.469  7.185  61.1     17.8   4.03   34.7\n",
              "3  0.03237  0.458  6.998  45.8     18.7   2.94   33.4\n",
              "4  0.06905  0.458  7.147  54.2     18.7   5.33   36.2"
            ],
            "text/html": [
              "\n",
              "  <div id=\"df-aa75518f-df3e-4898-8c5b-1d25b48e9a60\">\n",
              "    <div class=\"colab-df-container\">\n",
              "      <div>\n",
              "<style scoped>\n",
              "    .dataframe tbody tr th:only-of-type {\n",
              "        vertical-align: middle;\n",
              "    }\n",
              "\n",
              "    .dataframe tbody tr th {\n",
              "        vertical-align: top;\n",
              "    }\n",
              "\n",
              "    .dataframe thead th {\n",
              "        text-align: right;\n",
              "    }\n",
              "</style>\n",
              "<table border=\"1\" class=\"dataframe\">\n",
              "  <thead>\n",
              "    <tr style=\"text-align: right;\">\n",
              "      <th></th>\n",
              "      <th>CRIM</th>\n",
              "      <th>NOX</th>\n",
              "      <th>RM</th>\n",
              "      <th>AGE</th>\n",
              "      <th>PTRATIO</th>\n",
              "      <th>LSTAT</th>\n",
              "      <th>PRICE</th>\n",
              "    </tr>\n",
              "  </thead>\n",
              "  <tbody>\n",
              "    <tr>\n",
              "      <th>0</th>\n",
              "      <td>0.00632</td>\n",
              "      <td>0.538</td>\n",
              "      <td>6.575</td>\n",
              "      <td>65.2</td>\n",
              "      <td>15.3</td>\n",
              "      <td>4.98</td>\n",
              "      <td>24.0</td>\n",
              "    </tr>\n",
              "    <tr>\n",
              "      <th>1</th>\n",
              "      <td>0.02731</td>\n",
              "      <td>0.469</td>\n",
              "      <td>6.421</td>\n",
              "      <td>78.9</td>\n",
              "      <td>17.8</td>\n",
              "      <td>9.14</td>\n",
              "      <td>21.6</td>\n",
              "    </tr>\n",
              "    <tr>\n",
              "      <th>2</th>\n",
              "      <td>0.02729</td>\n",
              "      <td>0.469</td>\n",
              "      <td>7.185</td>\n",
              "      <td>61.1</td>\n",
              "      <td>17.8</td>\n",
              "      <td>4.03</td>\n",
              "      <td>34.7</td>\n",
              "    </tr>\n",
              "    <tr>\n",
              "      <th>3</th>\n",
              "      <td>0.03237</td>\n",
              "      <td>0.458</td>\n",
              "      <td>6.998</td>\n",
              "      <td>45.8</td>\n",
              "      <td>18.7</td>\n",
              "      <td>2.94</td>\n",
              "      <td>33.4</td>\n",
              "    </tr>\n",
              "    <tr>\n",
              "      <th>4</th>\n",
              "      <td>0.06905</td>\n",
              "      <td>0.458</td>\n",
              "      <td>7.147</td>\n",
              "      <td>54.2</td>\n",
              "      <td>18.7</td>\n",
              "      <td>5.33</td>\n",
              "      <td>36.2</td>\n",
              "    </tr>\n",
              "  </tbody>\n",
              "</table>\n",
              "</div>\n",
              "      <button class=\"colab-df-convert\" onclick=\"convertToInteractive('df-aa75518f-df3e-4898-8c5b-1d25b48e9a60')\"\n",
              "              title=\"Convert this dataframe to an interactive table.\"\n",
              "              style=\"display:none;\">\n",
              "        \n",
              "  <svg xmlns=\"http://www.w3.org/2000/svg\" height=\"24px\"viewBox=\"0 0 24 24\"\n",
              "       width=\"24px\">\n",
              "    <path d=\"M0 0h24v24H0V0z\" fill=\"none\"/>\n",
              "    <path d=\"M18.56 5.44l.94 2.06.94-2.06 2.06-.94-2.06-.94-.94-2.06-.94 2.06-2.06.94zm-11 1L8.5 8.5l.94-2.06 2.06-.94-2.06-.94L8.5 2.5l-.94 2.06-2.06.94zm10 10l.94 2.06.94-2.06 2.06-.94-2.06-.94-.94-2.06-.94 2.06-2.06.94z\"/><path d=\"M17.41 7.96l-1.37-1.37c-.4-.4-.92-.59-1.43-.59-.52 0-1.04.2-1.43.59L10.3 9.45l-7.72 7.72c-.78.78-.78 2.05 0 2.83L4 21.41c.39.39.9.59 1.41.59.51 0 1.02-.2 1.41-.59l7.78-7.78 2.81-2.81c.8-.78.8-2.07 0-2.86zM5.41 20L4 18.59l7.72-7.72 1.47 1.35L5.41 20z\"/>\n",
              "  </svg>\n",
              "      </button>\n",
              "      \n",
              "  <style>\n",
              "    .colab-df-container {\n",
              "      display:flex;\n",
              "      flex-wrap:wrap;\n",
              "      gap: 12px;\n",
              "    }\n",
              "\n",
              "    .colab-df-convert {\n",
              "      background-color: #E8F0FE;\n",
              "      border: none;\n",
              "      border-radius: 50%;\n",
              "      cursor: pointer;\n",
              "      display: none;\n",
              "      fill: #1967D2;\n",
              "      height: 32px;\n",
              "      padding: 0 0 0 0;\n",
              "      width: 32px;\n",
              "    }\n",
              "\n",
              "    .colab-df-convert:hover {\n",
              "      background-color: #E2EBFA;\n",
              "      box-shadow: 0px 1px 2px rgba(60, 64, 67, 0.3), 0px 1px 3px 1px rgba(60, 64, 67, 0.15);\n",
              "      fill: #174EA6;\n",
              "    }\n",
              "\n",
              "    [theme=dark] .colab-df-convert {\n",
              "      background-color: #3B4455;\n",
              "      fill: #D2E3FC;\n",
              "    }\n",
              "\n",
              "    [theme=dark] .colab-df-convert:hover {\n",
              "      background-color: #434B5C;\n",
              "      box-shadow: 0px 1px 3px 1px rgba(0, 0, 0, 0.15);\n",
              "      filter: drop-shadow(0px 1px 2px rgba(0, 0, 0, 0.3));\n",
              "      fill: #FFFFFF;\n",
              "    }\n",
              "  </style>\n",
              "\n",
              "      <script>\n",
              "        const buttonEl =\n",
              "          document.querySelector('#df-aa75518f-df3e-4898-8c5b-1d25b48e9a60 button.colab-df-convert');\n",
              "        buttonEl.style.display =\n",
              "          google.colab.kernel.accessAllowed ? 'block' : 'none';\n",
              "\n",
              "        async function convertToInteractive(key) {\n",
              "          const element = document.querySelector('#df-aa75518f-df3e-4898-8c5b-1d25b48e9a60');\n",
              "          const dataTable =\n",
              "            await google.colab.kernel.invokeFunction('convertToInteractive',\n",
              "                                                     [key], {});\n",
              "          if (!dataTable) return;\n",
              "\n",
              "          const docLinkHtml = 'Like what you see? Visit the ' +\n",
              "            '<a target=\"_blank\" href=https://colab.research.google.com/notebooks/data_table.ipynb>data table notebook</a>'\n",
              "            + ' to learn more about interactive tables.';\n",
              "          element.innerHTML = '';\n",
              "          dataTable['output_type'] = 'display_data';\n",
              "          await google.colab.output.renderOutput(dataTable, element);\n",
              "          const docLink = document.createElement('div');\n",
              "          docLink.innerHTML = docLinkHtml;\n",
              "          element.appendChild(docLink);\n",
              "        }\n",
              "      </script>\n",
              "    </div>\n",
              "  </div>\n",
              "  "
            ]
          },
          "metadata": {},
          "execution_count": 53
        }
      ]
    },
    {
      "cell_type": "code",
      "source": [
        "# Arrange Data into Features Matrix and Target Vector\n",
        "y = df['PRICE']\n",
        "X = df.drop(columns = 'PRICE')\n",
        "# Split the data for validation\n",
        "X_train, X_test, y_train, y_test = train_test_split(X, y, random_state=42)"
      ],
      "metadata": {
        "id": "Qq1VCmRVg8cC"
      },
      "execution_count": null,
      "outputs": []
    },
    {
      "cell_type": "markdown",
      "source": [
        "\n",
        "\n",
        "* Bagged tress and\n",
        "\n"
      ],
      "metadata": {
        "id": "t8_dNXa_qF-7"
      }
    },
    {
      "cell_type": "code",
      "source": [
        "bagreg = BaggingRegressor(random_state = 42)"
      ],
      "metadata": {
        "id": "Ax7dNb9hinLw"
      },
      "execution_count": null,
      "outputs": []
    },
    {
      "cell_type": "code",
      "source": [
        "# Look at the hyperparameters\n",
        "bagreg.get_params()"
      ],
      "metadata": {
        "colab": {
          "base_uri": "https://localhost:8080/"
        },
        "id": "0SJ2_9K9ios3",
        "outputId": "d6642ff8-e341-4d41-8e75-c3f6adcc4370"
      },
      "execution_count": null,
      "outputs": [
        {
          "output_type": "execute_result",
          "data": {
            "text/plain": [
              "{'base_estimator': None,\n",
              " 'bootstrap': True,\n",
              " 'bootstrap_features': False,\n",
              " 'max_features': 1.0,\n",
              " 'max_samples': 1.0,\n",
              " 'n_estimators': 10,\n",
              " 'n_jobs': None,\n",
              " 'oob_score': False,\n",
              " 'random_state': 42,\n",
              " 'verbose': 0,\n",
              " 'warm_start': False}"
            ]
          },
          "metadata": {},
          "execution_count": 56
        }
      ]
    },
    {
      "cell_type": "code",
      "source": [
        "bagreg.fit(X_train, y_train)"
      ],
      "metadata": {
        "colab": {
          "base_uri": "https://localhost:8080/"
        },
        "id": "3m4KRt6tizGf",
        "outputId": "5fefdd6e-677c-41a6-defb-e1e1e438eb75"
      },
      "execution_count": null,
      "outputs": [
        {
          "output_type": "execute_result",
          "data": {
            "text/plain": [
              "BaggingRegressor(random_state=42)"
            ]
          },
          "metadata": {},
          "execution_count": 57
        }
      ]
    },
    {
      "cell_type": "code",
      "source": [
        "bagreg.predict(X_test)"
      ],
      "metadata": {
        "colab": {
          "base_uri": "https://localhost:8080/"
        },
        "id": "F5W0Q795i1xW",
        "outputId": "85e75c4f-8169-45f7-9d60-3a4e72b0337a"
      },
      "execution_count": null,
      "outputs": [
        {
          "output_type": "execute_result",
          "data": {
            "text/plain": [
              "array([24.04, 30.77, 18.39, 24.04, 16.09, 20.4 , 19.13, 15.03, 21.07,\n",
              "       21.39, 18.87, 19.46,  7.68, 19.44, 18.93, 25.27, 19.06,  7.87,\n",
              "       44.92, 14.98, 24.01, 23.58, 14.26, 24.63, 14.15, 12.82, 20.67,\n",
              "       14.2 , 19.37, 20.33, 20.6 , 23.18, 31.23, 21.4 , 13.94, 15.81,\n",
              "       36.2 , 19.6 , 20.22, 24.6 , 18.88, 25.75, 44.15, 20.44, 22.72,\n",
              "       14.5 , 14.95, 24.43, 16.76, 28.32, 22.93, 34.44, 15.92, 25.6 ,\n",
              "       47.42, 22.56, 15.93, 31.44, 21.34, 20.25, 27.03, 33.4 , 27.06,\n",
              "       19.23, 28.11, 16.18, 14.58, 22.82, 28.31, 16.5 , 19.59, 25.86,\n",
              "        9.79, 21.71, 21.47,  6.94, 20.52, 46.12, 11.9 , 14.74, 20.45,\n",
              "       11.14, 20.37,  9.44, 20.4 , 26.58, 16.95, 23.41, 24.52, 17.98,\n",
              "       23.  ,  7.34, 18.97, 20.09, 26.26, 20.12, 35.89, 11.42, 12.12,\n",
              "       12.27, 20.1 , 23.  , 11.72, 23.22, 20.29, 15.51, 18.07, 25.05,\n",
              "       21.62, 23.58,  7.73, 14.05, 21.61, 22.51, 33.87, 12.38, 43.51,\n",
              "       16.17, 18.67, 24.28, 20.11, 24.72,  8.68, 20.84, 24.5 , 21.74,\n",
              "       24.2 ])"
            ]
          },
          "metadata": {},
          "execution_count": 58
        }
      ]
    },
    {
      "cell_type": "code",
      "source": [
        "bagreg_train_score = bagreg.score(X_train, y_train)\n",
        "bagreg_test_score = bagreg.score(X_test, y_test)\n",
        "print(bagreg_train_score)\n",
        "print(bagreg_test_score)"
      ],
      "metadata": {
        "colab": {
          "base_uri": "https://localhost:8080/"
        },
        "id": "ymYO3gvVi4GX",
        "outputId": "b2750a79-bf9b-421e-e1fe-7e9121784aaf"
      },
      "execution_count": null,
      "outputs": [
        {
          "output_type": "stream",
          "name": "stdout",
          "text": [
            "0.9606756023782893\n",
            "0.8204208271364619\n"
          ]
        }
      ]
    },
    {
      "cell_type": "markdown",
      "source": [
        "\n",
        "\n",
        "* Random forest regression\n"
      ],
      "metadata": {
        "id": "qP5guwe-qKdh"
      }
    },
    {
      "cell_type": "code",
      "execution_count": null,
      "metadata": {
        "id": "uKfhQuOroYVg"
      },
      "outputs": [],
      "source": [
        "rf = RandomForestRegressor(random_state = 42)"
      ]
    },
    {
      "cell_type": "code",
      "source": [
        "# Looking at some hyperparameters that seem tunable\n",
        "rf.get_params()"
      ],
      "metadata": {
        "colab": {
          "base_uri": "https://localhost:8080/"
        },
        "id": "qgcJldoulYNX",
        "outputId": "ec82d030-e43e-4d22-fbe4-a6f4dac982b8"
      },
      "execution_count": null,
      "outputs": [
        {
          "output_type": "execute_result",
          "data": {
            "text/plain": [
              "{'bootstrap': True,\n",
              " 'ccp_alpha': 0.0,\n",
              " 'criterion': 'squared_error',\n",
              " 'max_depth': None,\n",
              " 'max_features': 'auto',\n",
              " 'max_leaf_nodes': None,\n",
              " 'max_samples': None,\n",
              " 'min_impurity_decrease': 0.0,\n",
              " 'min_samples_leaf': 1,\n",
              " 'min_samples_split': 2,\n",
              " 'min_weight_fraction_leaf': 0.0,\n",
              " 'n_estimators': 100,\n",
              " 'n_jobs': None,\n",
              " 'oob_score': False,\n",
              " 'random_state': 42,\n",
              " 'verbose': 0,\n",
              " 'warm_start': False}"
            ]
          },
          "metadata": {},
          "execution_count": 61
        }
      ]
    },
    {
      "cell_type": "code",
      "source": [
        "rf.fit(X_train, y_train)"
      ],
      "metadata": {
        "colab": {
          "base_uri": "https://localhost:8080/"
        },
        "id": "GkL3KIvYl7z-",
        "outputId": "e2b05f8c-a343-4850-cd8a-a8d0987e75ba"
      },
      "execution_count": null,
      "outputs": [
        {
          "output_type": "execute_result",
          "data": {
            "text/plain": [
              "RandomForestRegressor(random_state=42)"
            ]
          },
          "metadata": {},
          "execution_count": 62
        }
      ]
    },
    {
      "cell_type": "code",
      "source": [
        "rf.predict(X_test)"
      ],
      "metadata": {
        "colab": {
          "base_uri": "https://localhost:8080/"
        },
        "id": "AONFIavil-d-",
        "outputId": "77fbb214-d0b7-4282-83fc-67987cc8dff1"
      },
      "execution_count": null,
      "outputs": [
        {
          "output_type": "execute_result",
          "data": {
            "text/plain": [
              "array([22.986, 31.391, 19.003, 23.141, 16.213, 20.666, 18.768, 15.219,\n",
              "       21.251, 20.809, 20.253, 20.247,  8.237, 21.228, 19.717, 26.426,\n",
              "       19.432,  8.497, 46.203, 15.325, 23.637, 23.557, 14.31 , 24.344,\n",
              "       15.369, 13.575, 21.195, 13.96 , 18.668, 21.416, 19.64 , 23.35 ,\n",
              "       28.457, 21.533, 14.143, 16.065, 34.532, 19.198, 20.46 , 23.926,\n",
              "       18.542, 28.025, 45.118, 19.994, 22.885, 14.364, 15.116, 23.797,\n",
              "       17.815, 28.089, 21.717, 34.018, 16.448, 25.876, 44.673, 21.957,\n",
              "       16.028, 31.978, 21.921, 20.542, 26.234, 33.55 , 30.222, 19.88 ,\n",
              "       27.288, 16.302, 14.934, 22.961, 27.268, 17.147, 20.538, 30.51 ,\n",
              "       10.187, 21.264, 21.262,  7.225, 20.097, 46.97 , 12.082, 13.522,\n",
              "       22.008, 12.609, 20.435,  8.976, 20.58 , 27.007, 16.026, 23.329,\n",
              "       24.346, 17.787, 22.135,  7.881, 18.524, 20.042, 25.241, 19.298,\n",
              "       32.793, 13.215, 12.961, 12.98 , 19.742, 24.277, 13.176, 20.387,\n",
              "       21.179, 14.004, 19.233, 24.822, 20.402, 24.114,  9.165, 14.91 ,\n",
              "       22.71 , 22.94 , 33.579, 13.253, 42.467, 16.23 , 19.77 , 23.843,\n",
              "       20.293, 24.043,  7.276, 20.198, 24.069, 21.865, 24.371])"
            ]
          },
          "metadata": {},
          "execution_count": 63
        }
      ]
    },
    {
      "cell_type": "code",
      "source": [
        "rf_train_score = rf.score(X_train, y_train)\n",
        "rf_test_score = rf.score(X_test, y_test)\n",
        "print(rf_train_score)\n",
        "print(rf_test_score)"
      ],
      "metadata": {
        "colab": {
          "base_uri": "https://localhost:8080/"
        },
        "id": "y8e9VtY3l_R4",
        "outputId": "3b2175ca-e6bb-41f1-d2a0-6ecd34b5d0f6"
      },
      "execution_count": null,
      "outputs": [
        {
          "output_type": "stream",
          "name": "stdout",
          "text": [
            "0.9771342521069045\n",
            "0.8338530730048258\n"
          ]
        }
      ]
    },
    {
      "cell_type": "code",
      "source": [
        "rf_9 = RandomForestRegressor(max_depth = 9, random_state = 42)\n",
        "rf_9.fit(X_train, y_train)\n",
        "rf_9_train_score = rf_9.score(X_train, y_train)\n",
        "rf_9_test_score = rf_9.score(X_test, y_test)\n",
        "print(rf_9_train_score)\n",
        "print(rf_9_test_score)"
      ],
      "metadata": {
        "colab": {
          "base_uri": "https://localhost:8080/"
        },
        "id": "wihSXVjRmu_j",
        "outputId": "7f7f5f08-3d5e-4ba3-a590-eb3fc5524a4e"
      },
      "execution_count": null,
      "outputs": [
        {
          "output_type": "stream",
          "name": "stdout",
          "text": [
            "0.9708593696865943\n",
            "0.8288183588216603\n"
          ]
        }
      ]
    },
    {
      "cell_type": "code",
      "source": [
        "[estimator.get_depth() for estimator in rf.estimators_]"
      ],
      "metadata": {
        "colab": {
          "base_uri": "https://localhost:8080/"
        },
        "id": "TrNKamGamyI0",
        "outputId": "3d7724af-0765-4d1d-f1cb-3aa8562f2973"
      },
      "execution_count": null,
      "outputs": [
        {
          "output_type": "execute_result",
          "data": {
            "text/plain": [
              "[19,\n",
              " 17,\n",
              " 18,\n",
              " 18,\n",
              " 17,\n",
              " 17,\n",
              " 19,\n",
              " 17,\n",
              " 16,\n",
              " 17,\n",
              " 19,\n",
              " 18,\n",
              " 18,\n",
              " 16,\n",
              " 17,\n",
              " 18,\n",
              " 19,\n",
              " 17,\n",
              " 20,\n",
              " 17,\n",
              " 17,\n",
              " 18,\n",
              " 16,\n",
              " 17,\n",
              " 18,\n",
              " 18,\n",
              " 19,\n",
              " 17,\n",
              " 23,\n",
              " 17,\n",
              " 18,\n",
              " 17,\n",
              " 15,\n",
              " 18,\n",
              " 18,\n",
              " 17,\n",
              " 20,\n",
              " 15,\n",
              " 18,\n",
              " 15,\n",
              " 17,\n",
              " 16,\n",
              " 17,\n",
              " 16,\n",
              " 15,\n",
              " 16,\n",
              " 16,\n",
              " 16,\n",
              " 16,\n",
              " 18,\n",
              " 20,\n",
              " 18,\n",
              " 17,\n",
              " 18,\n",
              " 19,\n",
              " 17,\n",
              " 20,\n",
              " 17,\n",
              " 16,\n",
              " 20,\n",
              " 19,\n",
              " 17,\n",
              " 18,\n",
              " 17,\n",
              " 14,\n",
              " 20,\n",
              " 15,\n",
              " 14,\n",
              " 20,\n",
              " 17,\n",
              " 20,\n",
              " 16,\n",
              " 15,\n",
              " 18,\n",
              " 18,\n",
              " 16,\n",
              " 16,\n",
              " 19,\n",
              " 15,\n",
              " 17,\n",
              " 16,\n",
              " 17,\n",
              " 18,\n",
              " 18,\n",
              " 20,\n",
              " 22,\n",
              " 17,\n",
              " 21,\n",
              " 16,\n",
              " 14,\n",
              " 16,\n",
              " 16,\n",
              " 20,\n",
              " 19,\n",
              " 16,\n",
              " 17,\n",
              " 20,\n",
              " 19,\n",
              " 17,\n",
              " 17]"
            ]
          },
          "metadata": {},
          "execution_count": 66
        }
      ]
    },
    {
      "cell_type": "code",
      "source": [
        "# Try 200 trees\n",
        "rf_200 = RandomForestRegressor(n_estimators = 200, random_state = 42)\n",
        "# Fit the model\n",
        "rf_200.fit(X_train, y_train)\n",
        "# Obtain the scores\n",
        "rf_200_train_score = rf_200.score(X_train, y_train)\n",
        "rf_200_test_score = rf_200.score(X_test, y_test)\n",
        "print(rf_200_train_score)\n",
        "print(rf_200_test_score)"
      ],
      "metadata": {
        "id": "Eidvv2yUm04F",
        "outputId": "06f9a1ce-2a21-457f-89cc-be385d7087ac",
        "colab": {
          "base_uri": "https://localhost:8080/"
        }
      },
      "execution_count": null,
      "outputs": [
        {
          "output_type": "stream",
          "name": "stdout",
          "text": [
            "0.9761265842591911\n",
            "0.8333231062640742\n"
          ]
        }
      ]
    }
  ]
}