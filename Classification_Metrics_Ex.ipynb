{
  "nbformat": 4,
  "nbformat_minor": 0,
  "metadata": {
    "colab": {
      "name": "Classification Metrics Ex.ipynb",
      "provenance": [],
      "collapsed_sections": [],
      "include_colab_link": true
    },
    "kernelspec": {
      "name": "python3",
      "display_name": "Python 3"
    },
    "language_info": {
      "name": "python"
    }
  },
  "cells": [
    {
      "cell_type": "markdown",
      "metadata": {
        "id": "view-in-github",
        "colab_type": "text"
      },
      "source": [
        "<a href=\"https://colab.research.google.com/github/JBonilla00/Core-_Assignments/blob/main/Classification_Metrics_Ex.ipynb\" target=\"_parent\"><img src=\"https://colab.research.google.com/assets/colab-badge.svg\" alt=\"Open In Colab\"/></a>"
      ]
    },
    {
      "cell_type": "markdown",
      "metadata": {
        "id": "QIBuSj1RW_JB"
      },
      "source": [
        "# Classification Metrics:\n",
        "\n",
        "\n",
        "![target image](https://github.com/ninja-josh/image-storage/raw/main/qft5tas90c801%20(1).jpeg)\n",
        "\n",
        "## How do we know if our model is any good?\n"
      ]
    },
    {
      "cell_type": "markdown",
      "metadata": {
        "id": "X2edK4bNx-5Y"
      },
      "source": [
        "## Regression vs Classification Metrics\n",
        "\n",
        "### Regression Metrics\n",
        "\n",
        "In a regression model a target label could have any value (theoretically).\n",
        "\n",
        "When we are creating a regression model, we try to create a model that predicts a label that is as close to the true label value for a sample as possible.  This is why we use metrics like mean absolute error, mean squared error, or root mean squared error.  We want to know how far away the prediction from the truth.  In fact, our model may never make a perfectly accurate prediction and that's fine, as long as it is close enough.\n",
        "\n",
        "### Classification Metrics\n",
        "\n",
        "With classification models each sample is a member of one of a finite number of classes.  For each sample, either the model predicts the correct class or predicts one of the incorrect classes.  It's right or wrong, there is no 'close'.\n",
        "\n",
        "Because of this we need different metrics.  In this lesson we will explore how to evaluate a classification model using:\n",
        "\n",
        "1. Accuracy\n",
        "2. Precision\n",
        "3. Recall\n",
        "4. A Confusion Matrix"
      ]
    },
    {
      "cell_type": "code",
      "metadata": {
        "id": "8MEED0E4ZHJO"
      },
      "source": [
        "import pandas as pd\n",
        "import numpy as np\n",
        "#import seaborn to make a nice heatmap for our confusion matrix\n",
        "import seaborn as sns\n",
        "\n",
        "#import some necessary tools\n",
        "from sklearn.datasets import load_breast_cancer\n",
        "from sklearn.model_selection import train_test_split\n",
        "from sklearn.preprocessing import StandardScaler\n",
        "from sklearn.pipeline import make_pipeline\n",
        "\n",
        "\n",
        "#import accuracy, precision, recall, classification report, and confusion matrix scoring functions\n",
        "from sklearn.metrics import accuracy_score, precision_score, recall_score, classification_report, confusion_matrix\n",
        "\n",
        "#Importing the Classifiers\n",
        "from sklearn.tree import DecisionTreeClassifier\n",
        "from sklearn.dummy import DummyClassifier"
      ],
      "execution_count": 32,
      "outputs": []
    },
    {
      "cell_type": "markdown",
      "metadata": {
        "id": "ghZG2YZV2lLW"
      },
      "source": [
        "'Breast Cancer Wisconsin' is a binary classification dataset that comes with the sklearn package in order to demonstrate and experiment with models.  We will use this well studied and pre-cleaned dataset to demonstrate how to evaluate a classification model on a binary classification problem.  Each record in this dataset is a mass in a breast and each feature is a measurement of that mass.  The target is 0 = benign, or 1 = malignant.\n",
        "\n",
        "Our task will be to create a model that classifies a given mass as either benign or malignant.  "
      ]
    },
    {
      "cell_type": "code",
      "metadata": {
        "id": "zbwkH-kG2XU6",
        "outputId": "89d51739-e641-49ce-db94-2608068f9253",
        "colab": {
          "base_uri": "https://localhost:8080/",
          "height": 403
        }
      },
      "source": [
        "#Load the Data\n",
        "data = load_breast_cancer()\n",
        "X = pd.DataFrame(data.data, columns = data.feature_names)\n",
        "y = pd.DataFrame(data.target, columns=['outcome'])\n",
        "print(y.value_counts(normalize=True))\n",
        "X.head()"
      ],
      "execution_count": 33,
      "outputs": [
        {
          "output_type": "stream",
          "name": "stdout",
          "text": [
            "outcome\n",
            "1          0.627417\n",
            "0          0.372583\n",
            "dtype: float64\n"
          ]
        },
        {
          "output_type": "execute_result",
          "data": {
            "text/plain": [
              "   mean radius  mean texture  mean perimeter  mean area  mean smoothness  \\\n",
              "0        17.99         10.38          122.80     1001.0          0.11840   \n",
              "1        20.57         17.77          132.90     1326.0          0.08474   \n",
              "2        19.69         21.25          130.00     1203.0          0.10960   \n",
              "3        11.42         20.38           77.58      386.1          0.14250   \n",
              "4        20.29         14.34          135.10     1297.0          0.10030   \n",
              "\n",
              "   mean compactness  mean concavity  mean concave points  mean symmetry  \\\n",
              "0           0.27760          0.3001              0.14710         0.2419   \n",
              "1           0.07864          0.0869              0.07017         0.1812   \n",
              "2           0.15990          0.1974              0.12790         0.2069   \n",
              "3           0.28390          0.2414              0.10520         0.2597   \n",
              "4           0.13280          0.1980              0.10430         0.1809   \n",
              "\n",
              "   mean fractal dimension  ...  worst radius  worst texture  worst perimeter  \\\n",
              "0                 0.07871  ...         25.38          17.33           184.60   \n",
              "1                 0.05667  ...         24.99          23.41           158.80   \n",
              "2                 0.05999  ...         23.57          25.53           152.50   \n",
              "3                 0.09744  ...         14.91          26.50            98.87   \n",
              "4                 0.05883  ...         22.54          16.67           152.20   \n",
              "\n",
              "   worst area  worst smoothness  worst compactness  worst concavity  \\\n",
              "0      2019.0            0.1622             0.6656           0.7119   \n",
              "1      1956.0            0.1238             0.1866           0.2416   \n",
              "2      1709.0            0.1444             0.4245           0.4504   \n",
              "3       567.7            0.2098             0.8663           0.6869   \n",
              "4      1575.0            0.1374             0.2050           0.4000   \n",
              "\n",
              "   worst concave points  worst symmetry  worst fractal dimension  \n",
              "0                0.2654          0.4601                  0.11890  \n",
              "1                0.1860          0.2750                  0.08902  \n",
              "2                0.2430          0.3613                  0.08758  \n",
              "3                0.2575          0.6638                  0.17300  \n",
              "4                0.1625          0.2364                  0.07678  \n",
              "\n",
              "[5 rows x 30 columns]"
            ],
            "text/html": [
              "\n",
              "  <div id=\"df-16f84746-59f6-44a4-8816-dc0ece86fede\">\n",
              "    <div class=\"colab-df-container\">\n",
              "      <div>\n",
              "<style scoped>\n",
              "    .dataframe tbody tr th:only-of-type {\n",
              "        vertical-align: middle;\n",
              "    }\n",
              "\n",
              "    .dataframe tbody tr th {\n",
              "        vertical-align: top;\n",
              "    }\n",
              "\n",
              "    .dataframe thead th {\n",
              "        text-align: right;\n",
              "    }\n",
              "</style>\n",
              "<table border=\"1\" class=\"dataframe\">\n",
              "  <thead>\n",
              "    <tr style=\"text-align: right;\">\n",
              "      <th></th>\n",
              "      <th>mean radius</th>\n",
              "      <th>mean texture</th>\n",
              "      <th>mean perimeter</th>\n",
              "      <th>mean area</th>\n",
              "      <th>mean smoothness</th>\n",
              "      <th>mean compactness</th>\n",
              "      <th>mean concavity</th>\n",
              "      <th>mean concave points</th>\n",
              "      <th>mean symmetry</th>\n",
              "      <th>mean fractal dimension</th>\n",
              "      <th>...</th>\n",
              "      <th>worst radius</th>\n",
              "      <th>worst texture</th>\n",
              "      <th>worst perimeter</th>\n",
              "      <th>worst area</th>\n",
              "      <th>worst smoothness</th>\n",
              "      <th>worst compactness</th>\n",
              "      <th>worst concavity</th>\n",
              "      <th>worst concave points</th>\n",
              "      <th>worst symmetry</th>\n",
              "      <th>worst fractal dimension</th>\n",
              "    </tr>\n",
              "  </thead>\n",
              "  <tbody>\n",
              "    <tr>\n",
              "      <th>0</th>\n",
              "      <td>17.99</td>\n",
              "      <td>10.38</td>\n",
              "      <td>122.80</td>\n",
              "      <td>1001.0</td>\n",
              "      <td>0.11840</td>\n",
              "      <td>0.27760</td>\n",
              "      <td>0.3001</td>\n",
              "      <td>0.14710</td>\n",
              "      <td>0.2419</td>\n",
              "      <td>0.07871</td>\n",
              "      <td>...</td>\n",
              "      <td>25.38</td>\n",
              "      <td>17.33</td>\n",
              "      <td>184.60</td>\n",
              "      <td>2019.0</td>\n",
              "      <td>0.1622</td>\n",
              "      <td>0.6656</td>\n",
              "      <td>0.7119</td>\n",
              "      <td>0.2654</td>\n",
              "      <td>0.4601</td>\n",
              "      <td>0.11890</td>\n",
              "    </tr>\n",
              "    <tr>\n",
              "      <th>1</th>\n",
              "      <td>20.57</td>\n",
              "      <td>17.77</td>\n",
              "      <td>132.90</td>\n",
              "      <td>1326.0</td>\n",
              "      <td>0.08474</td>\n",
              "      <td>0.07864</td>\n",
              "      <td>0.0869</td>\n",
              "      <td>0.07017</td>\n",
              "      <td>0.1812</td>\n",
              "      <td>0.05667</td>\n",
              "      <td>...</td>\n",
              "      <td>24.99</td>\n",
              "      <td>23.41</td>\n",
              "      <td>158.80</td>\n",
              "      <td>1956.0</td>\n",
              "      <td>0.1238</td>\n",
              "      <td>0.1866</td>\n",
              "      <td>0.2416</td>\n",
              "      <td>0.1860</td>\n",
              "      <td>0.2750</td>\n",
              "      <td>0.08902</td>\n",
              "    </tr>\n",
              "    <tr>\n",
              "      <th>2</th>\n",
              "      <td>19.69</td>\n",
              "      <td>21.25</td>\n",
              "      <td>130.00</td>\n",
              "      <td>1203.0</td>\n",
              "      <td>0.10960</td>\n",
              "      <td>0.15990</td>\n",
              "      <td>0.1974</td>\n",
              "      <td>0.12790</td>\n",
              "      <td>0.2069</td>\n",
              "      <td>0.05999</td>\n",
              "      <td>...</td>\n",
              "      <td>23.57</td>\n",
              "      <td>25.53</td>\n",
              "      <td>152.50</td>\n",
              "      <td>1709.0</td>\n",
              "      <td>0.1444</td>\n",
              "      <td>0.4245</td>\n",
              "      <td>0.4504</td>\n",
              "      <td>0.2430</td>\n",
              "      <td>0.3613</td>\n",
              "      <td>0.08758</td>\n",
              "    </tr>\n",
              "    <tr>\n",
              "      <th>3</th>\n",
              "      <td>11.42</td>\n",
              "      <td>20.38</td>\n",
              "      <td>77.58</td>\n",
              "      <td>386.1</td>\n",
              "      <td>0.14250</td>\n",
              "      <td>0.28390</td>\n",
              "      <td>0.2414</td>\n",
              "      <td>0.10520</td>\n",
              "      <td>0.2597</td>\n",
              "      <td>0.09744</td>\n",
              "      <td>...</td>\n",
              "      <td>14.91</td>\n",
              "      <td>26.50</td>\n",
              "      <td>98.87</td>\n",
              "      <td>567.7</td>\n",
              "      <td>0.2098</td>\n",
              "      <td>0.8663</td>\n",
              "      <td>0.6869</td>\n",
              "      <td>0.2575</td>\n",
              "      <td>0.6638</td>\n",
              "      <td>0.17300</td>\n",
              "    </tr>\n",
              "    <tr>\n",
              "      <th>4</th>\n",
              "      <td>20.29</td>\n",
              "      <td>14.34</td>\n",
              "      <td>135.10</td>\n",
              "      <td>1297.0</td>\n",
              "      <td>0.10030</td>\n",
              "      <td>0.13280</td>\n",
              "      <td>0.1980</td>\n",
              "      <td>0.10430</td>\n",
              "      <td>0.1809</td>\n",
              "      <td>0.05883</td>\n",
              "      <td>...</td>\n",
              "      <td>22.54</td>\n",
              "      <td>16.67</td>\n",
              "      <td>152.20</td>\n",
              "      <td>1575.0</td>\n",
              "      <td>0.1374</td>\n",
              "      <td>0.2050</td>\n",
              "      <td>0.4000</td>\n",
              "      <td>0.1625</td>\n",
              "      <td>0.2364</td>\n",
              "      <td>0.07678</td>\n",
              "    </tr>\n",
              "  </tbody>\n",
              "</table>\n",
              "<p>5 rows × 30 columns</p>\n",
              "</div>\n",
              "      <button class=\"colab-df-convert\" onclick=\"convertToInteractive('df-16f84746-59f6-44a4-8816-dc0ece86fede')\"\n",
              "              title=\"Convert this dataframe to an interactive table.\"\n",
              "              style=\"display:none;\">\n",
              "        \n",
              "  <svg xmlns=\"http://www.w3.org/2000/svg\" height=\"24px\"viewBox=\"0 0 24 24\"\n",
              "       width=\"24px\">\n",
              "    <path d=\"M0 0h24v24H0V0z\" fill=\"none\"/>\n",
              "    <path d=\"M18.56 5.44l.94 2.06.94-2.06 2.06-.94-2.06-.94-.94-2.06-.94 2.06-2.06.94zm-11 1L8.5 8.5l.94-2.06 2.06-.94-2.06-.94L8.5 2.5l-.94 2.06-2.06.94zm10 10l.94 2.06.94-2.06 2.06-.94-2.06-.94-.94-2.06-.94 2.06-2.06.94z\"/><path d=\"M17.41 7.96l-1.37-1.37c-.4-.4-.92-.59-1.43-.59-.52 0-1.04.2-1.43.59L10.3 9.45l-7.72 7.72c-.78.78-.78 2.05 0 2.83L4 21.41c.39.39.9.59 1.41.59.51 0 1.02-.2 1.41-.59l7.78-7.78 2.81-2.81c.8-.78.8-2.07 0-2.86zM5.41 20L4 18.59l7.72-7.72 1.47 1.35L5.41 20z\"/>\n",
              "  </svg>\n",
              "      </button>\n",
              "      \n",
              "  <style>\n",
              "    .colab-df-container {\n",
              "      display:flex;\n",
              "      flex-wrap:wrap;\n",
              "      gap: 12px;\n",
              "    }\n",
              "\n",
              "    .colab-df-convert {\n",
              "      background-color: #E8F0FE;\n",
              "      border: none;\n",
              "      border-radius: 50%;\n",
              "      cursor: pointer;\n",
              "      display: none;\n",
              "      fill: #1967D2;\n",
              "      height: 32px;\n",
              "      padding: 0 0 0 0;\n",
              "      width: 32px;\n",
              "    }\n",
              "\n",
              "    .colab-df-convert:hover {\n",
              "      background-color: #E2EBFA;\n",
              "      box-shadow: 0px 1px 2px rgba(60, 64, 67, 0.3), 0px 1px 3px 1px rgba(60, 64, 67, 0.15);\n",
              "      fill: #174EA6;\n",
              "    }\n",
              "\n",
              "    [theme=dark] .colab-df-convert {\n",
              "      background-color: #3B4455;\n",
              "      fill: #D2E3FC;\n",
              "    }\n",
              "\n",
              "    [theme=dark] .colab-df-convert:hover {\n",
              "      background-color: #434B5C;\n",
              "      box-shadow: 0px 1px 3px 1px rgba(0, 0, 0, 0.15);\n",
              "      filter: drop-shadow(0px 1px 2px rgba(0, 0, 0, 0.3));\n",
              "      fill: #FFFFFF;\n",
              "    }\n",
              "  </style>\n",
              "\n",
              "      <script>\n",
              "        const buttonEl =\n",
              "          document.querySelector('#df-16f84746-59f6-44a4-8816-dc0ece86fede button.colab-df-convert');\n",
              "        buttonEl.style.display =\n",
              "          google.colab.kernel.accessAllowed ? 'block' : 'none';\n",
              "\n",
              "        async function convertToInteractive(key) {\n",
              "          const element = document.querySelector('#df-16f84746-59f6-44a4-8816-dc0ece86fede');\n",
              "          const dataTable =\n",
              "            await google.colab.kernel.invokeFunction('convertToInteractive',\n",
              "                                                     [key], {});\n",
              "          if (!dataTable) return;\n",
              "\n",
              "          const docLinkHtml = 'Like what you see? Visit the ' +\n",
              "            '<a target=\"_blank\" href=https://colab.research.google.com/notebooks/data_table.ipynb>data table notebook</a>'\n",
              "            + ' to learn more about interactive tables.';\n",
              "          element.innerHTML = '';\n",
              "          dataTable['output_type'] = 'display_data';\n",
              "          await google.colab.output.renderOutput(dataTable, element);\n",
              "          const docLink = document.createElement('div');\n",
              "          docLink.innerHTML = docLinkHtml;\n",
              "          element.appendChild(docLink);\n",
              "        }\n",
              "      </script>\n",
              "    </div>\n",
              "  </div>\n",
              "  "
            ]
          },
          "metadata": {},
          "execution_count": 33
        }
      ]
    },
    {
      "cell_type": "code",
      "metadata": {
        "id": "s5KB8Y5i2gS9"
      },
      "source": [
        "#Prepare the data for modeling and validation\n",
        "\n",
        "#Train-test split.  Set the random state to 42\n",
        "X_train, X_test, y_train, y_test = train_test_split(X, y, random_state=42)\n"
      ],
      "execution_count": 34,
      "outputs": []
    },
    {
      "cell_type": "markdown",
      "metadata": {
        "id": "kVPyRoxE7xdd"
      },
      "source": [
        "# Baseline vs Decision Tree"
      ]
    },
    {
      "cell_type": "code",
      "metadata": {
        "id": "Qg6ogWgM7W3m"
      },
      "source": [
        "#Create a pipeline with a StandardScaler and a DecisionTreeClassifier\n",
        "#Create another pipeline with StandardScaler and DummyClassifier\n",
        "#using the 'most_frequent' strategy\n"
      ],
      "execution_count": 35,
      "outputs": []
    },
    {
      "cell_type": "code",
      "source": [
        "DecisionTreeClassifier()\n",
        "scaler = StandardScaler()\n",
        "\n",
        "#\n",
        "dummy = DummyClassifier(strategy='most_frequent')\n",
        "dummy_pipe = make_pipeline(scaler, dummy)\n",
        "dummy_pipe.fit(X_train, y_train)\n",
        "\n",
        "train_preds = dummy_pipe.predict(X_train)\n",
        "test_preds =dummy_pipe.predict(X_test)\n",
        "\n",
        "DT = DecisionTreeClassifier(random_state = 42)\n",
        "\n",
        "pipe = make_pipeline(scaler, DT)\n",
        "pipe.fit(X_train, y_train)\n",
        "\n",
        "DT_Trainpreds = pipe.predict(X_train)\n",
        "DT_TestPreds= pipe.predict(X_test)"
      ],
      "metadata": {
        "id": "8NQVJKH6y8tb"
      },
      "execution_count": 36,
      "outputs": []
    },
    {
      "cell_type": "markdown",
      "metadata": {
        "id": "rEr-cVH9O0ND"
      },
      "source": [
        "Quickly remind yourself of what you learned about type 1 and type 2 errors.  In every binary classification problem we select one class to be the **'positive'** class and one to be the **'negative'** class.  The positive class should be the one you are most interested in finding.  For our breast cancer dataset the positive class will be the malignant masses and the negative class will be the benign one.\n",
        "\n",
        "## Type 1 error:\n",
        "If our model predicts that a mass is malignant, but it is in fact benign, it will have made a type 1 error.  This is also known as a false positive\n",
        "\n",
        "## Type 2 error:\n",
        "If our model predicts that a mass is benign, when in fact it is malignant, it will have made a type 2 error.  This is is also known as a false negative.\n",
        "\n",
        "\n",
        "*Which of these do you think is worse in this case?  If we have to increase one kind of error in order to minimize the other kind, which would we want to minimize?  Why?*"
      ]
    },
    {
      "cell_type": "markdown",
      "metadata": {
        "id": "TJ--mFdZN21E"
      },
      "source": [
        "# Accuracy\n",
        "\n",
        "Accuracy is the metric that is most intuitive.  This is defined as:\n",
        "\n",
        "$$\n",
        "accuracy = \\frac{True  Positives + True  Negatives}{All  Samples}\n",
        "$$\n",
        "\n",
        "In other words accuracy is correct predictions our model made out of the total number of predictions.\n",
        "\n",
        "Pros:\n",
        "Accuracy is easy to understand and gives a combined picture of both kinds of errors in one number.\n",
        "\n",
        "Cons: Accuracy can be deceiving when a dataset is unbalanced.  It also does not give specific information about the kinds of errors that a model is making.\n",
        "\n",
        "For example, we saw above that 62% of our samples are malign masses when we did `y.value_counts(normalize=True)`"
      ]
    },
    {
      "cell_type": "markdown",
      "metadata": {
        "id": "T3p1w80pNXKM"
      },
      "source": [
        "To use the sklearn metrics functions we pass them first the true labels, then the predicted labels.  For example: `accuracy = accuracy_score(y_test, y_pred)`"
      ]
    },
    {
      "cell_type": "code",
      "source": [
        ""
      ],
      "metadata": {
        "colab": {
          "base_uri": "https://localhost:8080/",
          "height": 166
        },
        "id": "bfjV8oiZVXdw",
        "outputId": "3a0ca784-5e9e-4d55-f413-b5b9a6dee298"
      },
      "execution_count": 42,
      "outputs": [
        {
          "output_type": "error",
          "ename": "NameError",
          "evalue": "ignored",
          "traceback": [
            "\u001b[0;31m---------------------------------------------------------------------------\u001b[0m",
            "\u001b[0;31mNameError\u001b[0m                                 Traceback (most recent call last)",
            "\u001b[0;32m<ipython-input-42-056aa0dde421>\u001b[0m in \u001b[0;36m<module>\u001b[0;34m()\u001b[0m\n\u001b[0;32m----> 1\u001b[0;31m \u001b[0maccuracy\u001b[0m\u001b[0;34m(\u001b[0m\u001b[0;34m)\u001b[0m\u001b[0;34m\u001b[0m\u001b[0;34m\u001b[0m\u001b[0m\n\u001b[0m",
            "\u001b[0;31mNameError\u001b[0m: name 'accuracy' is not defined"
          ]
        }
      ]
    },
    {
      "cell_type": "code",
      "metadata": {
        "id": "6iAa_70TNw_8",
        "colab": {
          "base_uri": "https://localhost:8080/"
        },
        "outputId": "247ec3a5-67bb-4e1b-968e-52a5b3c54ebf"
      },
      "source": [
        "accuracy = accuracy_score(y_test, test_preds)\n",
        "print(score)\n"
      ],
      "execution_count": 45,
      "outputs": [
        {
          "output_type": "stream",
          "name": "stdout",
          "text": [
            "0.6223776223776224\n"
          ]
        }
      ]
    },
    {
      "cell_type": "code",
      "source": [
        "DTaccuracy = accuracy_score(y_test,DT_TestPreds)\n",
        "DTaccuracy"
      ],
      "metadata": {
        "colab": {
          "base_uri": "https://localhost:8080/"
        },
        "id": "zcyox5iPGJkw",
        "outputId": "5e0338fd-af95-452d-dcf8-727875b0389b"
      },
      "execution_count": 46,
      "outputs": [
        {
          "output_type": "execute_result",
          "data": {
            "text/plain": [
              "0.951048951048951"
            ]
          },
          "metadata": {},
          "execution_count": 46
        }
      ]
    },
    {
      "cell_type": "markdown",
      "metadata": {
        "id": "W2c7ChhLV2cT"
      },
      "source": [
        "If our dataset were even more imbalanced, say 99.9% malignant, then a prediction that EVERYTHING is malignant would have a very high accuracy.  However, that would not be a very useful model for actual medical use.  More often we see the opposite: a disease is very rare, occurring .01% of the time or less, and a model that predicts that NO samples ever have the disease will have a high accuracy, but will actually be useless...and dangerous!"
      ]
    },
    {
      "cell_type": "markdown",
      "metadata": {
        "id": "sKCBKNtvUQae"
      },
      "source": [
        "# Recall\n",
        "\n",
        "When we want to reduce the number of false negatives, we want to improve recall.\n",
        "\n",
        "Recall is defined as: \n",
        "\n",
        "$$\n",
        "recall = \\frac{True Positives}{False Negatives + True Positives}\n",
        "$$\n",
        "\n",
        "That is to say: how many samples did our model label as positive out of all of the true positive samples?\n",
        "\n",
        "Pros: A higher recall means a fewer false negative predictions, also known as type 2 errors.  It's great for when classifying a positive as a negative is a costly mistake.\n",
        "\n",
        "Cons: Does not consider how many samples are falsely labeled as positive, or false positives.  It does not penalize type 1 errors.\n",
        "\n",
        "In the case of this dataset, we might assume that the consequence for a false negative is that a person needlessly dies from cancer while the consequence for a false positive is that someone has unnecessary surgery.  While neither is great, the second is generally going to be less bad.  A high recall means fewer malignant masses going untreated.\n",
        "\n",
        "You can use the Scikit-Learn function: `metrics.recall_score()` to calcuate this.  Check the documentation on this function for more information."
      ]
    },
    {
      "cell_type": "code",
      "metadata": {
        "id": "BwboFujvYHSs",
        "colab": {
          "base_uri": "https://localhost:8080/"
        },
        "outputId": "e6847c54-ac7d-473c-ab2c-45df7283baca"
      },
      "source": [
        "#Print the recall scores of both models.\n",
        "Metrics=recall_score(y_test, test_preds)\n",
        "Metrics"
      ],
      "execution_count": 50,
      "outputs": [
        {
          "output_type": "execute_result",
          "data": {
            "text/plain": [
              "1.0"
            ]
          },
          "metadata": {},
          "execution_count": 50
        }
      ]
    },
    {
      "cell_type": "code",
      "source": [
        "MetricsDT=recall_score(y_test, DT_TestPreds)\n",
        "MetricsDT"
      ],
      "metadata": {
        "colab": {
          "base_uri": "https://localhost:8080/"
        },
        "id": "GXPW8yLKWiSH",
        "outputId": "3b93128e-5727-445f-e590-3233d27c9d4f"
      },
      "execution_count": 49,
      "outputs": [
        {
          "output_type": "execute_result",
          "data": {
            "text/plain": [
              "0.9550561797752809"
            ]
          },
          "metadata": {},
          "execution_count": 49
        }
      ]
    },
    {
      "cell_type": "markdown",
      "metadata": {
        "id": "nyM5xz6lYWTg"
      },
      "source": [
        "\n",
        "You can see that our Decision Tree model has a high recall, but just predicting that ALL tumors are malignant gives us a perfect recall of 1!  While we want to catch as many malignant tumors as possible, we don't want to just send everyone under the knife, especially since we know that 38% don't need surgery!\n",
        "\n",
        "# Precision\n",
        "\n",
        "When we want to reduce the number of false positives, we want to improve precision.\n",
        "\n",
        "Precision is defined as:\n",
        "\n",
        "$$\n",
        "precision = \\frac{True Positives}{False Positives + True Positives}\n",
        "$$\n",
        "\n",
        "In other words: What ratio of the samples that we predicted were in the positive class were actually in the positive class?\n",
        "\n",
        "Pros:  A high precision means fewer type 1 errors, or fewer false positives.  This is a good metric to maximize if a false positive prediction is a costly mistake.\n",
        "\n",
        "Cons: Precision does not penalize a model for false negatives.  It does not count type 2 errors.\n",
        "\n",
        "In this case precision would be measuring how many of the tumors we elected to operate on were actually malignant.\n",
        "\n",
        "You can use the Scikit-Learn function: `metrics.precision_score()` to calculate this.  Check the documentation on this function for more information."
      ]
    },
    {
      "cell_type": "code",
      "metadata": {
        "id": "sjuf4fvJajS-",
        "colab": {
          "base_uri": "https://localhost:8080/"
        },
        "outputId": "892ba686-24ba-4d02-944b-9bc05e9ed7ff"
      },
      "source": [
        "#Print the precision scores of both models.\n",
        "Precision = precision_score(y_test, test_preds)\n",
        "Precision"
      ],
      "execution_count": 52,
      "outputs": [
        {
          "output_type": "execute_result",
          "data": {
            "text/plain": [
              "0.6223776223776224"
            ]
          },
          "metadata": {},
          "execution_count": 52
        }
      ]
    },
    {
      "cell_type": "code",
      "source": [
        "DTPrecision = precision_score(y_test, test_preds)\n",
        "DTPrecision"
      ],
      "metadata": {
        "colab": {
          "base_uri": "https://localhost:8080/"
        },
        "id": "0L5c0pExXYKi",
        "outputId": "ffc4707b-65c6-4e07-8b7b-63029765e96a"
      },
      "execution_count": 54,
      "outputs": [
        {
          "output_type": "execute_result",
          "data": {
            "text/plain": [
              "0.6223776223776224"
            ]
          },
          "metadata": {},
          "execution_count": 54
        }
      ]
    },
    {
      "cell_type": "markdown",
      "metadata": {
        "id": "OOB0phAWbCSQ"
      },
      "source": [
        "# The Complete Picture: Confusion Matrices and classification_report()\n",
        "\n",
        "As you have seen, precision, precision, and recall each only tell part of the story.  In order to get the full picture of how your model is performing and what kinds of mistakes it tends to make, you need to look at a confusion matrix and/or sklearn's handy `classification_report()` function."
      ]
    },
    {
      "cell_type": "code",
      "metadata": {
        "id": "6xUmwY-qa8DL",
        "colab": {
          "base_uri": "https://localhost:8080/"
        },
        "outputId": "4e4b3b56-ae3e-4540-f48a-21e86927572b"
      },
      "source": [
        "#Use confusion_matrix() to print confusion matrices for both models\n",
        "con1 = confusion_matrix(y_test, test_preds)\n",
        "con1"
      ],
      "execution_count": 55,
      "outputs": [
        {
          "output_type": "execute_result",
          "data": {
            "text/plain": [
              "array([[ 0, 54],\n",
              "       [ 0, 89]])"
            ]
          },
          "metadata": {},
          "execution_count": 55
        }
      ]
    },
    {
      "cell_type": "code",
      "metadata": {
        "id": "7hAfxnzCbse5",
        "colab": {
          "base_uri": "https://localhost:8080/"
        },
        "outputId": "ca98e2d9-003f-4eef-bd3f-446e7d9ce8b4"
      },
      "source": [
        "#Use sns.heatmap() to plot the confusion matrices from above.  \n",
        "#Set annot = True to see the numbers, and change the colormap to something easier to read\n",
        "#with cmap='Greens' (or whatever color map you like)\n",
        "con2 = confusion_matrix(y_test, test_preds)\n",
        "con2"
      ],
      "execution_count": 57,
      "outputs": [
        {
          "output_type": "execute_result",
          "data": {
            "text/plain": [
              "array([[ 0, 54],\n",
              "       [ 0, 89]])"
            ]
          },
          "metadata": {},
          "execution_count": 57
        }
      ]
    },
    {
      "cell_type": "markdown",
      "metadata": {
        "id": "YXAJ2jpZbt0i"
      },
      "source": [
        "The confusion matrix above is informational, but rather dry.  I prefer to use seaborns `heatmap()` function to liven it up a little"
      ]
    },
    {
      "cell_type": "code",
      "source": [
        "corr = con1\n",
        "sns.heatmap(corr, cmap='Greens', annot = True);"
      ],
      "metadata": {
        "colab": {
          "base_uri": "https://localhost:8080/",
          "height": 265
        },
        "id": "iquqXKJqaz4_",
        "outputId": "aefe62f8-c3cb-45e5-a7ed-27d8d2475ef8"
      },
      "execution_count": 63,
      "outputs": [
        {
          "output_type": "display_data",
          "data": {
            "text/plain": [
              "<Figure size 432x288 with 2 Axes>"
            ],
            "image/png": "[encoded data removed]"
          },
          "metadata": {
            "needs_background": "light"
          }
        }
      ]
    },
    {
      "cell_type": "code",
      "source": [
        "corr2 = con2\n",
        "sns.heatmap(corr2, cmap='Blues', annot = True);"
      ],
      "metadata": {
        "colab": {
          "base_uri": "https://localhost:8080/",
          "height": 265
        },
        "id": "cbyjpL4Gcb8e",
        "outputId": "9b2f14f2-172f-444f-e5d6-1b9b3dd3eb4f"
      },
      "execution_count": 64,
      "outputs": [
        {
          "output_type": "display_data",
          "data": {
            "text/plain": [
              "<Figure size 432x288 with 2 Axes>"
            ],
            "image/png": "[encoded data removed]"
          },
          "metadata": {
            "needs_background": "light"
          }
        }
      ]
    },
    {
      "cell_type": "markdown",
      "metadata": {
        "id": "M1nZ-FEKcIfx"
      },
      "source": [
        "We see the false positives predictions (top right) and false negative predictions (bottom left) that our model made.  However, the bottom left is out of 89 total and the top right is out of 54 total.  We can see the normalized ratios of true and false predictions by normalizing along the 'true' or 'pred' axes in the confusion_matrix() function.  \n",
        "\n",
        "To normalize along the 'true' axis, we set `confusion_matrix(y_test, y_prediction, normalize = 'true')`.  \n",
        "\n",
        "Notice that it is the string 'true' NOT the boolean value: `True`"
      ]
    },
    {
      "cell_type": "code",
      "metadata": {
        "id": "8B20cEmYb4oB"
      },
      "source": [
        "#Recreate the confusion matrix above, but with the values normalized along the 'true' axis.\n"
      ],
      "execution_count": null,
      "outputs": []
    },
    {
      "cell_type": "code",
      "source": [
        "con3 = confusion_matrix(y_test, test_preds, normalize = 'true')"
      ],
      "metadata": {
        "id": "Z64srTvIczu2"
      },
      "execution_count": 66,
      "outputs": []
    },
    {
      "cell_type": "code",
      "source": [
        "corr= con3\n",
        "sns.heatmap(corr, cmap = 'Greens', annot = True);"
      ],
      "metadata": {
        "colab": {
          "base_uri": "https://localhost:8080/",
          "height": 269
        },
        "id": "0fNugt-RdfvN",
        "outputId": "0dabebf1-c759-4490-fbbd-725878b4f43a"
      },
      "execution_count": 68,
      "outputs": [
        {
          "output_type": "display_data",
          "data": {
            "text/plain": [
              "<Figure size 432x288 with 2 Axes>"
            ],
            "image/png": "[encoded data removed]"
          },
          "metadata": {
            "needs_background": "light"
          }
        }
      ]
    },
    {
      "cell_type": "code",
      "source": [
        "con4 = confusion_matrix(y_test, DT_TestPreds, normalize = 'true')\n",
        "corr = con4\n",
        "sns.heatmap(corr, cmap = 'Blues', annot = True);"
      ],
      "metadata": {
        "colab": {
          "base_uri": "https://localhost:8080/",
          "height": 265
        },
        "id": "K9lecQgMd9YV",
        "outputId": "a05bb0d6-f919-4ca9-813d-2593d6e140e5"
      },
      "execution_count": 75,
      "outputs": [
        {
          "output_type": "display_data",
          "data": {
            "text/plain": [
              "<Figure size 432x288 with 2 Axes>"
            ],
            "image/png": "[encoded data removed]"
          },
          "metadata": {
            "needs_background": "light"
          }
        }
      ]
    },
    {
      "cell_type": "markdown",
      "metadata": {
        "id": "pt2VjHsfc5pY"
      },
      "source": [
        "We can now see that our Decision Tree model successfully classified 94% of the samples in both classes, benign (class 0) and malignant (class 1)\n",
        "\n",
        "Another quick way to check the accuracy, recall, and precision of a model on a test set is with `classification_report()`, which runs several metrics on both classes simultaneously."
      ]
    },
    {
      "cell_type": "code",
      "metadata": {
        "id": "Jz0bpAN3cqmw",
        "collapsed": true
      },
      "source": [
        "#Use classifiction_report() to print a report of several metrics for all classes at once\n",
        "#for both models\n",
        "def evaluate_classification(y_true, y_predicted, average=None):\n",
        "  accuracy = accuracy_score(y_true, y_predicted)\n",
        "  recall = recall_score(y_true, y_predicted, average=average)\n",
        "  precision = precision_score(y_true, y_predicted, average=average)\n",
        "  f1 = f1_score(y_true, y_predicted, average=average)\n",
        "\n",
        "  print(f'Accuracy: {accuracy} \\nRecall: {recall} \\nPrecision: {precision} \\nF1 Score: {f1}')\n"
      ],
      "execution_count": 79,
      "outputs": []
    },
    {
      "cell_type": "code",
      "source": [
        "print('Classification Report for Training Set')\n",
        "train_report = classification_report(y_train, train_preds);\n",
        "print(train_report);\n",
        "\n",
        "print('Confusion Matrix for Training Set')\n",
        "train_conf_mat = confusion_matrix(y_train, train_preds);\n",
        "print(train_conf_mat);\n",
        "\n",
        "print('\\n\\n');\n",
        "\n",
        "print('Classification Report for Testing Set');\n",
        "\n",
        "test_report = classification_report(y_test, DT_TestPreds);\n",
        "print(test_report);\n",
        "\n",
        "print('Confusion Matrix for Testing Set')\n",
        "test_conf_mat = confusion_matrix(y_test, DT_TestPreds);\n",
        "print(test_conf_mat);"
      ],
      "metadata": {
        "colab": {
          "base_uri": "https://localhost:8080/"
        },
        "id": "K20s5zzGlAyF",
        "outputId": "20f38795-edd7-410f-eec0-2184c9faa543"
      },
      "execution_count": 80,
      "outputs": [
        {
          "output_type": "stream",
          "name": "stdout",
          "text": [
            "Classification Report for Training Set\n",
            "              precision    recall  f1-score   support\n",
            "\n",
            "           0       0.00      0.00      0.00       158\n",
            "           1       0.63      1.00      0.77       268\n",
            "\n",
            "    accuracy                           0.63       426\n",
            "   macro avg       0.31      0.50      0.39       426\n",
            "weighted avg       0.40      0.63      0.49       426\n",
            "\n",
            "Confusion Matrix for Training Set\n",
            "[[  0 158]\n",
            " [  0 268]]\n",
            "\n",
            "\n",
            "\n",
            "Classification Report for Testing Set\n",
            "              precision    recall  f1-score   support\n",
            "\n",
            "           0       0.93      0.94      0.94        54\n",
            "           1       0.97      0.96      0.96        89\n",
            "\n",
            "    accuracy                           0.95       143\n",
            "   macro avg       0.95      0.95      0.95       143\n",
            "weighted avg       0.95      0.95      0.95       143\n",
            "\n",
            "Confusion Matrix for Testing Set\n",
            "[[51  3]\n",
            " [ 4 85]]\n"
          ]
        },
        {
          "output_type": "stream",
          "name": "stderr",
          "text": [
            "/usr/local/lib/python3.7/dist-packages/sklearn/metrics/_classification.py:1318: UndefinedMetricWarning: Precision and F-score are ill-defined and being set to 0.0 in labels with no predicted samples. Use `zero_division` parameter to control this behavior.\n",
            "  _warn_prf(average, modifier, msg_start, len(result))\n",
            "/usr/local/lib/python3.7/dist-packages/sklearn/metrics/_classification.py:1318: UndefinedMetricWarning: Precision and F-score are ill-defined and being set to 0.0 in labels with no predicted samples. Use `zero_division` parameter to control this behavior.\n",
            "  _warn_prf(average, modifier, msg_start, len(result))\n",
            "/usr/local/lib/python3.7/dist-packages/sklearn/metrics/_classification.py:1318: UndefinedMetricWarning: Precision and F-score are ill-defined and being set to 0.0 in labels with no predicted samples. Use `zero_division` parameter to control this behavior.\n",
            "  _warn_prf(average, modifier, msg_start, len(result))\n"
          ]
        }
      ]
    },
    {
      "cell_type": "markdown",
      "metadata": {
        "id": "hnz0EbE6dbPR"
      },
      "source": [
        "You'll notice that each class has a different recall and precision.  f1-score, by the way, is the harmonic mean of the precision and recall.  \n",
        "\n",
        "classification_report also tells us the averages of the precisions, means, and f1-scores.  'support' is how many samples there are of each class."
      ]
    },
    {
      "cell_type": "markdown",
      "metadata": {
        "id": "W0GZG210h5y7"
      },
      "source": [
        "# Multi-class Metrics\n",
        "\n",
        "Precision, recall, and accuracy also extend to cases when we have more than 2 possible classes.  However, in order to know how to calculate precision and recall we have to decide which class is our positive class.  We also become interested in the most complex patterns of errors that can occur.  \n",
        "\n",
        "For examples, suppose we have a problem with 3 possbile classes.  We might ask: \n",
        "\n",
        "When our model misclassifies class 1 samples, is it more often classifying them as class 0, or class 2?  This my help us understand why it is making that kind of mistake and how we can improve performance.\n",
        "\n",
        "This is where confusion matrices become even more useful in understanding how our model is behaving."
      ]
    },
    {
      "cell_type": "markdown",
      "metadata": {
        "id": "H3pCVHISdXXb"
      },
      "source": [
        "# Summary\n",
        "\n",
        "Accuracy, precision, and recall all are metrics that give us different insights into how our model is performing in making predictions.  No one of them alone tells us everything, and different metrics are more or less important depending on our business problem.\n",
        "\n",
        "However, we need to measure all three to make sure our model is making useful predictions.  Two ways to do this quickly are with a confusion matrix and a classification report."
      ]
    }
  ]
}